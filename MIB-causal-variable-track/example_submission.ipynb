{
 "cells": [
  {
   "cell_type": "markdown",
   "metadata": {},
   "source": [
    "# Simple MCQA Example Submission - DAS Training\n",
    "\n",
    "This notebook demonstrates how to train DAS (Distributed Alignment Search) featurizers for the Simple MCQA (Multiple Choice Question Answering) task using a Gemma model.\n",
    "\n",
    "## Overview\n",
    "1. Load Simple MCQA datasets and setup the model\n",
    "2. Filter datasets based on model performance  \n",
    "3. Configure experiment settings for DAS training\n",
    "4. Train DAS featurizers on residual stream representations\n",
    "5. Load and test trained models\n",
    "\n",
    "The Simple MCQA task involves answering multiple choice questions where the model needs to identify the correct answer from 4 options (A, B, C, D)."
   ]
  },
  {
   "cell_type": "markdown",
   "metadata": {},
   "source": [
    "## Step 1: Setup and Data Loading\n",
    "\n",
    "Load the Simple MCQA task components and initialize the model pipeline."
   ]
  },
  {
   "cell_type": "code",
   "execution_count": null,
   "metadata": {
    "execution": {
     "iopub.execute_input": "2025-06-28T07:12:55.887813Z",
     "iopub.status.busy": "2025-06-28T07:12:55.887699Z",
     "iopub.status.idle": "2025-06-28T07:13:05.839036Z",
     "shell.execute_reply": "2025-06-28T07:13:05.838675Z"
    }
   },
   "outputs": [
    {
     "name": "stdout",
     "output_type": "stream",
     "text": [
      "Available datasets: dict_keys(['answerPosition_train', 'randomLetter_train', 'answerPosition_randomLetter_train', 'answerPosition_validation', 'randomLetter_validation', 'answerPosition_randomLetter_validation', 'answerPosition_test', 'randomLetter_test', 'answerPosition_randomLetter_test'])\n"
     ]
    },
    {
     "data": {
      "application/vnd.jupyter.widget-view+json": {
       "model_id": "0b07ee4231ed4711bd514d06a4caba61",
       "version_major": 2,
       "version_minor": 0
      },
      "text/plain": [
       "Loading checkpoint shards:   0%|          | 0/3 [00:00<?, ?it/s]"
      ]
     },
     "metadata": {},
     "output_type": "display_data"
    },
    {
     "name": "stdout",
     "output_type": "stream",
     "text": [
      "DEVICE: cuda:0\n",
      "INPUT: {'choice0': 'red', 'choice1': 'orange', 'choice2': 'brown', 'choice3': 'purple', 'question': ['brown', 'question: coconuts'], 'raw_input': 'Question: Coconuts are brown. What color are coconuts?\\nA. red\\nB. orange\\nC. brown\\nD. purple\\nAnswer:', 'symbol0': 'A', 'symbol1': 'B', 'symbol2': 'C', 'symbol3': 'D'}\n",
      "EXPECTED OUTPUT:  C\n",
      "MODEL PREDICTION:  C\n"
     ]
    }
   ],
   "source": [
    "import sys\n",
    "from pathlib import Path\n",
    "sys.path.append(str(Path().resolve().parent.parent))\n",
    "\n",
    "from tasks.simple_MCQA.simple_MCQA import get_token_positions, get_counterfactual_datasets, get_causal_model\n",
    "from CausalAbstraction.experiments.aggregate_experiments import residual_stream_baselines\n",
    "from CausalAbstraction.neural.pipeline import LMPipeline\n",
    "from CausalAbstraction.experiments.filter_experiment import FilterExperiment\n",
    "import gc\n",
    "import torch\n",
    "import os\n",
    "\n",
    "gc.collect()\n",
    "torch.cuda.empty_cache()\n",
    "\n",
    "# Get counterfactual datasets and causal model\n",
    "counterfactual_datasets = get_counterfactual_datasets(hf=True, size=None, load_private_data=False)\n",
    "causal_model = get_causal_model()\n",
    "\n",
    "# Print available datasets\n",
    "print(\"Available datasets:\", counterfactual_datasets.keys())\n",
    "\n",
    "device = \"cuda:0\" if torch.cuda.is_available() else \"cpu\"\n",
    "\n",
    "def clear_memory():\n",
    "    # Clear Python garbage collector\n",
    "    gc.collect()\n",
    "    \n",
    "    # Clear CUDA cache if available\n",
    "    if torch.cuda.is_available():\n",
    "        torch.cuda.empty_cache()\n",
    "        \n",
    "    # Force a synchronization point to ensure memory is freed\n",
    "    if torch.cuda.is_available():\n",
    "        torch.cuda.synchronize()\n",
    "\n",
    "\n",
    "def checker(output_text, expected):\n",
    "    return expected in output_text\n",
    "\n",
    "model_name = \"google/gemma-2-2b\"\n",
    "pipeline = LMPipeline(model_name, max_new_tokens=1, device=device, dtype=torch.float16)\n",
    "pipeline.tokenizer.padding_side = \"left\"\n",
    "print(\"DEVICE:\", pipeline.model.device)\n",
    "\n",
    "# Get a sample input and check model's prediction\n",
    "sampled_example = next(iter(counterfactual_datasets.values()))[0]\n",
    "print(\"INPUT:\", sampled_example[\"input\"])\n",
    "print(\"EXPECTED OUTPUT:\", causal_model.run_forward(sampled_example[\"input\"])[\"raw_output\"])\n",
    "print(\"MODEL PREDICTION:\", pipeline.dump(pipeline.generate(sampled_example[\"input\"])))"
   ]
  },
  {
   "cell_type": "markdown",
   "metadata": {},
   "source": [
    "## Step 2: Filter Datasets Based on Model Performance\n",
    "\n",
    "Filter datasets to keep only examples where the model produces correct outputs. This ensures we train featurizers on cases where the model actually succeeds at the task."
   ]
  },
  {
   "cell_type": "code",
   "execution_count": 3,
   "metadata": {
    "execution": {
     "iopub.execute_input": "2025-06-28T07:13:05.841384Z",
     "iopub.status.busy": "2025-06-28T07:13:05.841088Z",
     "iopub.status.idle": "2025-06-28T07:13:15.198714Z",
     "shell.execute_reply": "2025-06-28T07:13:15.198028Z"
    }
   },
   "outputs": [
    {
     "name": "stdout",
     "output_type": "stream",
     "text": [
      "\n",
      "Filtering datasets based on model performance...\n"
     ]
    },
    {
     "name": "stderr",
     "output_type": "stream",
     "text": [
      "Filtering answerPosition_train: 100%|██████████| 1/1 [00:01<00:00,  1.12s/it]\n"
     ]
    },
    {
     "name": "stdout",
     "output_type": "stream",
     "text": [
      "Dataset 'answerPosition_train': kept 106/110 examples (96.4%)\n"
     ]
    },
    {
     "name": "stderr",
     "output_type": "stream",
     "text": [
      "Filtering randomLetter_train: 100%|██████████| 1/1 [00:01<00:00,  1.14s/it]\n"
     ]
    },
    {
     "name": "stdout",
     "output_type": "stream",
     "text": [
      "Dataset 'randomLetter_train': kept 75/110 examples (68.2%)\n"
     ]
    },
    {
     "name": "stderr",
     "output_type": "stream",
     "text": [
      "Filtering answerPosition_randomLetter_train: 100%|██████████| 1/1 [00:01<00:00,  1.15s/it]\n"
     ]
    },
    {
     "name": "stdout",
     "output_type": "stream",
     "text": [
      "Dataset 'answerPosition_randomLetter_train': kept 71/110 examples (64.5%)\n"
     ]
    },
    {
     "name": "stderr",
     "output_type": "stream",
     "text": [
      "Filtering answerPosition_validation: 100%|██████████| 1/1 [00:00<00:00,  1.27it/s]\n"
     ]
    },
    {
     "name": "stdout",
     "output_type": "stream",
     "text": [
      "Dataset 'answerPosition_validation': kept 50/50 examples (100.0%)\n"
     ]
    },
    {
     "name": "stderr",
     "output_type": "stream",
     "text": [
      "Filtering randomLetter_validation: 100%|██████████| 1/1 [00:00<00:00,  1.29it/s]\n"
     ]
    },
    {
     "name": "stdout",
     "output_type": "stream",
     "text": [
      "Dataset 'randomLetter_validation': kept 37/50 examples (74.0%)\n"
     ]
    },
    {
     "name": "stderr",
     "output_type": "stream",
     "text": [
      "Filtering answerPosition_randomLetter_validation: 100%|██████████| 1/1 [00:00<00:00,  1.29it/s]\n"
     ]
    },
    {
     "name": "stdout",
     "output_type": "stream",
     "text": [
      "Dataset 'answerPosition_randomLetter_validation': kept 35/50 examples (70.0%)\n"
     ]
    },
    {
     "name": "stderr",
     "output_type": "stream",
     "text": [
      "Filtering answerPosition_test: 100%|██████████| 1/1 [00:00<00:00,  1.28it/s]\n"
     ]
    },
    {
     "name": "stdout",
     "output_type": "stream",
     "text": [
      "Dataset 'answerPosition_test': kept 50/50 examples (100.0%)\n"
     ]
    },
    {
     "name": "stderr",
     "output_type": "stream",
     "text": [
      "Filtering randomLetter_test: 100%|██████████| 1/1 [00:00<00:00,  1.26it/s]\n"
     ]
    },
    {
     "name": "stdout",
     "output_type": "stream",
     "text": [
      "Dataset 'randomLetter_test': kept 34/50 examples (68.0%)\n"
     ]
    },
    {
     "name": "stderr",
     "output_type": "stream",
     "text": [
      "Filtering answerPosition_randomLetter_test: 100%|██████████| 1/1 [00:00<00:00,  1.22it/s]"
     ]
    },
    {
     "name": "stdout",
     "output_type": "stream",
     "text": [
      "Dataset 'answerPosition_randomLetter_test': kept 37/50 examples (74.0%)\n",
      "\n",
      "Total filtering results:\n",
      "Original examples: 630\n",
      "Kept examples: 495\n",
      "Overall keep rate: 78.6%\n",
      "\n",
      "Token positions highlighted in samples:\n",
      "<bos>Question: Coconuts are brown. What color are coconuts?\n",
      "A. red\n",
      "B. orange\n",
      "C. purple\n",
      "**D**. brown\n",
      "Answer:\n"
     ]
    },
    {
     "name": "stderr",
     "output_type": "stream",
     "text": [
      "\n"
     ]
    }
   ],
   "source": [
    "# Filter the datasets based on model performance\n",
    "print(\"\\nFiltering datasets based on model performance...\")\n",
    "exp = FilterExperiment(pipeline, causal_model, checker)\n",
    "filtered_datasets = exp.filter(counterfactual_datasets, verbose=True, batch_size=1024)\n",
    "\n",
    "token_positions = get_token_positions(pipeline, causal_model)\n",
    "\n",
    "# Display token highlighting for a sample\n",
    "print(\"\\nToken positions highlighted in samples:\")\n",
    "for dataset in filtered_datasets.values():\n",
    "    for token_position in token_positions:\n",
    "        example = dataset[0]\n",
    "        print(token_position.highlight_selected_token(example[\"counterfactual_inputs\"][0]))\n",
    "        break\n",
    "    break\n",
    "\n",
    "gc.collect()\n",
    "torch.cuda.empty_cache()\n",
    "\n"
   ]
  },
  {
   "cell_type": "markdown",
   "metadata": {},
   "source": [
    "## Step 3: Configure Experiment Settings for DAS Training\n",
    "\n",
    "Set up the training configuration including batch sizes, training epochs, feature dimensions, and target variables. For Simple MCQA, we focus on the `answer_pointer` variable which represents the model's ability to point to the correct answer choice."
   ]
  },
  {
   "cell_type": "code",
   "execution_count": 3,
   "metadata": {
    "execution": {
     "iopub.execute_input": "2025-06-28T07:13:15.200188Z",
     "iopub.status.busy": "2025-06-28T07:13:15.200057Z",
     "iopub.status.idle": "2025-06-28T07:13:15.203573Z",
     "shell.execute_reply": "2025-06-28T07:13:15.203141Z"
    }
   },
   "outputs": [],
   "source": [
    "import os\n",
    "\n",
    "start = 0 \n",
    "end = 1\n",
    "\n",
    "# Use original config for all models\n",
    "config = {\"batch_size\": 64, \"evaluation_batch_size\": 1024, \"training_epoch\": 1, \"n_features\": 16, \"regularization_coefficient\": 0.0, \"output_scores\": False}\n",
    "    \n",
    "names = [\"answerPosition\", \"randomLetter\", \"answerPosition_randomLetter\"]\n",
    "\n",
    "# Prepare train and test data dictionaries\n",
    "train_data = {}\n",
    "test_data = {}\n",
    "\n",
    "for name in names:\n",
    "    if name + \"_train\" in filtered_datasets:\n",
    "        train_data[name + \"_train\"] = filtered_datasets[name + \"_train\"]\n",
    "    if name + \"_test\" in filtered_datasets:\n",
    "        test_data[name + \"_test\"] = filtered_datasets[name + \"_test\"]\n",
    "    # Uncomment the line below if testprivate datasets are available\n",
    "    if name + \"_testprivate\" in filtered_datasets:\n",
    "        test_data[name + \"_testprivate\"] = filtered_datasets[name + \"_testprivate\"]\n",
    "\n",
    "verbose = False \n",
    "results_dir = \"mock_submission_results\"\n",
    "model_dir = os.path.join(\"mock_submission\", \"4_answer_MCQA_Gemma2ForCausalLM_answer_pointer\")\n",
    "target_variables=[\"answer_pointer\"]"
   ]
  },
  {
   "cell_type": "markdown",
   "metadata": {},
   "source": [
    "## Step 4: Train DAS Featurizers on Residual Stream\n",
    "\n",
    "Train DAS (Direct Attribution with Subspace) featurizers on the residual stream representations. DAS learns a low-dimensional subspace that captures the relevant features for the causal variable we want to model.\n",
    "\n",
    "The training process:\n",
    "1. Extract residual stream activations from the specified layers\n",
    "2. Learn a featurizer that maps high-dimensional activations to a lower-dimensional feature space\n",
    "3. Train the feature space to predict the target causal variable\n",
    "4. Save the trained featurizers for later use in interventions"
   ]
  },
  {
   "cell_type": "code",
   "execution_count": 4,
   "metadata": {
    "execution": {
     "iopub.execute_input": "2025-06-28T07:13:15.204822Z",
     "iopub.status.busy": "2025-06-28T07:13:15.204702Z",
     "iopub.status.idle": "2025-06-28T07:13:36.621594Z",
     "shell.execute_reply": "2025-06-28T07:13:36.621189Z"
    }
   },
   "outputs": [
    {
     "name": "stdout",
     "output_type": "stream",
     "text": [
      "Running DAS method...\n"
     ]
    },
    {
     "name": "stderr",
     "output_type": "stream",
     "text": [
      "\r\n",
      "Epoch:   0%|          | 0/1 [00:00<?, ?it/s]"
     ]
    },
    {
     "name": "stderr",
     "output_type": "stream",
     "text": [
      "\r\n",
      "Epoch: 0:   0%|          | 0/4 [00:00<?, ?it/s]"
     ]
    },
    {
     "name": "stderr",
     "output_type": "stream",
     "text": [
      "\r\n",
      "Epoch: 0:   0%|          | 0/4 [00:00<?, ?it/s, loss=2.34, accuracy=0.27, token_accuracy=0.27]"
     ]
    },
    {
     "name": "stderr",
     "output_type": "stream",
     "text": [
      "\r\n",
      "Epoch: 0:  25%|██▌       | 1/4 [00:00<00:02,  1.37it/s, loss=2.34, accuracy=0.27, token_accuracy=0.27]"
     ]
    },
    {
     "name": "stderr",
     "output_type": "stream",
     "text": [
      "\r\n",
      "Epoch: 0:  25%|██▌       | 1/4 [00:01<00:02,  1.37it/s, loss=1.94, accuracy=0.47, token_accuracy=0.47]"
     ]
    },
    {
     "name": "stderr",
     "output_type": "stream",
     "text": [
      "\r\n",
      "Epoch: 0:  50%|█████     | 2/4 [00:01<00:01,  1.45it/s, loss=1.94, accuracy=0.47, token_accuracy=0.47]"
     ]
    },
    {
     "name": "stderr",
     "output_type": "stream",
     "text": [
      "\r\n",
      "Epoch: 0:  50%|█████     | 2/4 [00:01<00:01,  1.45it/s, loss=1.8, accuracy=0.56, token_accuracy=0.56] "
     ]
    },
    {
     "name": "stderr",
     "output_type": "stream",
     "text": [
      "\r\n",
      "Epoch: 0:  75%|███████▌  | 3/4 [00:02<00:00,  1.53it/s, loss=1.8, accuracy=0.56, token_accuracy=0.56]"
     ]
    },
    {
     "name": "stderr",
     "output_type": "stream",
     "text": [
      "\r\n",
      "Epoch: 0:  75%|███████▌  | 3/4 [00:02<00:00,  1.53it/s, loss=1.71, accuracy=0.5, token_accuracy=0.5] "
     ]
    },
    {
     "name": "stderr",
     "output_type": "stream",
     "text": [
      "\r\n",
      "Epoch: 0: 100%|██████████| 4/4 [00:02<00:00,  1.59it/s, loss=1.71, accuracy=0.5, token_accuracy=0.5]"
     ]
    },
    {
     "name": "stderr",
     "output_type": "stream",
     "text": [
      "\r\n",
      "Epoch: 0: 100%|██████████| 4/4 [00:02<00:00,  1.54it/s, loss=1.71, accuracy=0.5, token_accuracy=0.5]"
     ]
    },
    {
     "name": "stderr",
     "output_type": "stream",
     "text": [
      "\n",
      "\r\n",
      "Epoch: 100%|██████████| 1/1 [00:02<00:00,  2.59s/it]"
     ]
    },
    {
     "name": "stderr",
     "output_type": "stream",
     "text": [
      "\r\n",
      "Epoch: 100%|██████████| 1/1 [00:02<00:00,  2.59s/it]"
     ]
    },
    {
     "name": "stderr",
     "output_type": "stream",
     "text": [
      "\n"
     ]
    },
    {
     "name": "stderr",
     "output_type": "stream",
     "text": [
      "\r\n",
      "Epoch:   0%|          | 0/1 [00:00<?, ?it/s]"
     ]
    },
    {
     "name": "stderr",
     "output_type": "stream",
     "text": [
      "\r\n",
      "Epoch: 0:   0%|          | 0/4 [00:00<?, ?it/s]"
     ]
    },
    {
     "name": "stderr",
     "output_type": "stream",
     "text": [
      "\r\n",
      "Epoch: 0:   0%|          | 0/4 [00:00<?, ?it/s, loss=1.99, accuracy=0.38, token_accuracy=0.38]"
     ]
    },
    {
     "name": "stderr",
     "output_type": "stream",
     "text": [
      "\r\n",
      "Epoch: 0:  25%|██▌       | 1/4 [00:00<00:01,  1.60it/s, loss=1.99, accuracy=0.38, token_accuracy=0.38]"
     ]
    },
    {
     "name": "stderr",
     "output_type": "stream",
     "text": [
      "\r\n",
      "Epoch: 0:  25%|██▌       | 1/4 [00:01<00:01,  1.60it/s, loss=2.09, accuracy=0.3, token_accuracy=0.3]  "
     ]
    },
    {
     "name": "stderr",
     "output_type": "stream",
     "text": [
      "\r\n",
      "Epoch: 0:  50%|█████     | 2/4 [00:01<00:01,  1.61it/s, loss=2.09, accuracy=0.3, token_accuracy=0.3]"
     ]
    },
    {
     "name": "stderr",
     "output_type": "stream",
     "text": [
      "\r\n",
      "Epoch: 0:  50%|█████     | 2/4 [00:01<00:01,  1.61it/s, loss=2.16, accuracy=0.27, token_accuracy=0.27]"
     ]
    },
    {
     "name": "stderr",
     "output_type": "stream",
     "text": [
      "\r\n",
      "Epoch: 0:  75%|███████▌  | 3/4 [00:02<00:00,  1.45it/s, loss=2.16, accuracy=0.27, token_accuracy=0.27]"
     ]
    },
    {
     "name": "stderr",
     "output_type": "stream",
     "text": [
      "\r\n",
      "Epoch: 0:  75%|███████▌  | 3/4 [00:02<00:00,  1.45it/s, loss=2.17, accuracy=0.25, token_accuracy=0.25]"
     ]
    },
    {
     "name": "stderr",
     "output_type": "stream",
     "text": [
      "\r\n",
      "Epoch: 0: 100%|██████████| 4/4 [00:02<00:00,  1.50it/s, loss=2.17, accuracy=0.25, token_accuracy=0.25]"
     ]
    },
    {
     "name": "stderr",
     "output_type": "stream",
     "text": [
      "\r\n",
      "Epoch: 0: 100%|██████████| 4/4 [00:02<00:00,  1.51it/s, loss=2.17, accuracy=0.25, token_accuracy=0.25]"
     ]
    },
    {
     "name": "stderr",
     "output_type": "stream",
     "text": [
      "\n",
      "\r\n",
      "Epoch: 100%|██████████| 1/1 [00:02<00:00,  2.64s/it]"
     ]
    },
    {
     "name": "stderr",
     "output_type": "stream",
     "text": [
      "\r\n",
      "Epoch: 100%|██████████| 1/1 [00:02<00:00,  2.64s/it]"
     ]
    },
    {
     "name": "stderr",
     "output_type": "stream",
     "text": [
      "\n"
     ]
    },
    {
     "name": "stderr",
     "output_type": "stream",
     "text": [
      "\r\n",
      "Epoch:   0%|          | 0/1 [00:00<?, ?it/s]"
     ]
    },
    {
     "name": "stderr",
     "output_type": "stream",
     "text": [
      "\r\n",
      "Epoch: 0:   0%|          | 0/4 [00:00<?, ?it/s]"
     ]
    },
    {
     "name": "stderr",
     "output_type": "stream",
     "text": [
      "\r\n",
      "Epoch: 0:   0%|          | 0/4 [00:00<?, ?it/s, loss=2.16, accuracy=0.3, token_accuracy=0.3]"
     ]
    },
    {
     "name": "stderr",
     "output_type": "stream",
     "text": [
      "\r\n",
      "Epoch: 0:  25%|██▌       | 1/4 [00:00<00:02,  1.49it/s, loss=2.16, accuracy=0.3, token_accuracy=0.3]"
     ]
    },
    {
     "name": "stderr",
     "output_type": "stream",
     "text": [
      "\r\n",
      "Epoch: 0:  25%|██▌       | 1/4 [00:01<00:02,  1.49it/s, loss=2.23, accuracy=0.23, token_accuracy=0.23]"
     ]
    },
    {
     "name": "stderr",
     "output_type": "stream",
     "text": [
      "\r\n",
      "Epoch: 0:  50%|█████     | 2/4 [00:01<00:01,  1.56it/s, loss=2.23, accuracy=0.23, token_accuracy=0.23]"
     ]
    },
    {
     "name": "stderr",
     "output_type": "stream",
     "text": [
      "\r\n",
      "Epoch: 0:  50%|█████     | 2/4 [00:01<00:01,  1.56it/s, loss=2.11, accuracy=0.42, token_accuracy=0.42]"
     ]
    },
    {
     "name": "stderr",
     "output_type": "stream",
     "text": [
      "\r\n",
      "Epoch: 0:  75%|███████▌  | 3/4 [00:01<00:00,  1.60it/s, loss=2.11, accuracy=0.42, token_accuracy=0.42]"
     ]
    },
    {
     "name": "stderr",
     "output_type": "stream",
     "text": [
      "\r\n",
      "Epoch: 0:  75%|███████▌  | 3/4 [00:02<00:00,  1.60it/s, loss=2.19, accuracy=0.23, token_accuracy=0.23]"
     ]
    },
    {
     "name": "stderr",
     "output_type": "stream",
     "text": [
      "\r\n",
      "Epoch: 0: 100%|██████████| 4/4 [00:02<00:00,  1.59it/s, loss=2.19, accuracy=0.23, token_accuracy=0.23]"
     ]
    },
    {
     "name": "stderr",
     "output_type": "stream",
     "text": [
      "\r\n",
      "Epoch: 0: 100%|██████████| 4/4 [00:02<00:00,  1.58it/s, loss=2.19, accuracy=0.23, token_accuracy=0.23]"
     ]
    },
    {
     "name": "stderr",
     "output_type": "stream",
     "text": [
      "\n",
      "\r\n",
      "Epoch: 100%|██████████| 1/1 [00:02<00:00,  2.53s/it]"
     ]
    },
    {
     "name": "stderr",
     "output_type": "stream",
     "text": [
      "\r\n",
      "Epoch: 100%|██████████| 1/1 [00:02<00:00,  2.53s/it]"
     ]
    },
    {
     "name": "stderr",
     "output_type": "stream",
     "text": [
      "\n"
     ]
    }
   ],
   "source": [
    "# Run DAS method (Direct Attribution with Subspace)\n",
    "print(\"Running DAS method...\")\n",
    "\n",
    "residual_stream_baselines(\n",
    "    pipeline=pipeline,\n",
    "    task=causal_model,\n",
    "    token_positions=token_positions,\n",
    "    train_data=train_data,\n",
    "    test_data=test_data,\n",
    "    config=config,\n",
    "    target_variables=target_variables,\n",
    "    checker=checker,\n",
    "    start=start,\n",
    "    end=end,\n",
    "    verbose=verbose,\n",
    "    model_dir=model_dir,\n",
    "    results_dir=results_dir,\n",
    "    methods=[\"DAS\"]  # Only run DAS method\n",
    ")\n",
    "\n",
    "clear_memory()"
   ]
  },
  {
   "cell_type": "markdown",
   "metadata": {},
   "source": [
    "## Alternative Methods (Optional)\n",
    "\n",
    "The following cells demonstrate how to train other baseline methods like DBM (Desiderata Based Masking) and DBM+SAE (with Sparse Autoencoders). These are commented out but can be uncommented to experiment with different approaches."
   ]
  },
  {
   "cell_type": "code",
   "execution_count": 5,
   "metadata": {
    "execution": {
     "iopub.execute_input": "2025-06-28T07:13:36.624536Z",
     "iopub.status.busy": "2025-06-28T07:13:36.624252Z",
     "iopub.status.idle": "2025-06-28T07:13:36.626483Z",
     "shell.execute_reply": "2025-06-28T07:13:36.626235Z"
    }
   },
   "outputs": [],
   "source": [
    "# Example: Run DBM+SAE method (uncomment to use)\n",
    "# NOTE: This method requires the sae_lens library and is specific to certain models\n",
    "\n",
    "# print(\"Running DBM+SAE method...\")\n",
    "\n",
    "# residual_stream_baselines(\n",
    "#     pipeline=pipeline,\n",
    "#     task=causal_model,\n",
    "#     token_positions=token_positions,\n",
    "#     train_data=train_data,\n",
    "#     test_data=test_data,\n",
    "#     config=config,\n",
    "#     target_variables=target_variables,\n",
    "#     checker=checker,\n",
    "#     start=start,\n",
    "#     end=end,\n",
    "#     verbose=verbose,\n",
    "#     model_dir=model_dir,\n",
    "#     results_dir=results_dir,\n",
    "#     methods=[\"DBM+SAE\"]  # Only run DBM+SAE method\n",
    "# )\n",
    "\n",
    "# clear_memory()"
   ]
  },
  {
   "cell_type": "code",
   "execution_count": 6,
   "metadata": {
    "execution": {
     "iopub.execute_input": "2025-06-28T07:13:36.628316Z",
     "iopub.status.busy": "2025-06-28T07:13:36.628214Z",
     "iopub.status.idle": "2025-06-28T07:13:36.629920Z",
     "shell.execute_reply": "2025-06-28T07:13:36.629681Z"
    }
   },
   "outputs": [],
   "source": [
    "# Example: Run DBM method (uncomment to use)\n",
    "# print(\"Running DBM method...\")\n",
    "\n",
    "# residual_stream_baselines(\n",
    "#     pipeline=pipeline,\n",
    "#     task=causal_model,\n",
    "#     token_positions=token_positions,\n",
    "#     train_data=train_data,\n",
    "#     test_data=test_data,\n",
    "#     config=config,\n",
    "#     target_variables=target_variables,\n",
    "#     checker=checker,\n",
    "#     start=start,\n",
    "#     end=end,\n",
    "#     verbose=verbose,\n",
    "#     model_dir=model_dir,\n",
    "#     results_dir=results_dir,\n",
    "#     methods=[\"DBM\"]  # Only run DBM method\n",
    "# )\n",
    "\n",
    "# clear_memory()"
   ]
  },
  {
   "cell_type": "markdown",
   "metadata": {},
   "source": [
    "## Step 5: Load Trained Models and Run Inference\n",
    "\n",
    "This section demonstrates how to load previously trained featurizers and use them for inference on test data. This is useful for:\n",
    "\n",
    "1. **Testing trained models**: Verify that saved models work correctly\n",
    "2. **Running interventions**: Use the trained featurizers to perform causal interventions\n",
    "3. **Evaluation**: Test model performance on held-out test data\n",
    "\n",
    "The process involves:\n",
    "- Loading the trained featurizer from disk\n",
    "- Running interventions on test datasets  \n",
    "- Collecting results for analysis\n",
    "\n",
    "This is exactly what the evaluation system will do with your submitted models."
   ]
  },
  {
   "cell_type": "code",
   "execution_count": 7,
   "metadata": {
    "execution": {
     "iopub.execute_input": "2025-06-28T07:13:36.632187Z",
     "iopub.status.busy": "2025-06-28T07:13:36.631793Z",
     "iopub.status.idle": "2025-06-28T07:13:47.791907Z",
     "shell.execute_reply": "2025-06-28T07:13:47.791195Z"
    }
   },
   "outputs": [
    {
     "name": "stdout",
     "output_type": "stream",
     "text": [
      "Loading trained models and running inference...\n",
      "Testing DAS method...\n"
     ]
    },
    {
     "name": "stdout",
     "output_type": "stream",
     "text": [
      "Inference completed!\n"
     ]
    }
   ],
   "source": [
    "# Example: Load saved models and run inference\n",
    "# This demonstrates how to load previously trained featurizers and run interventions\n",
    "\n",
    "from experiments.residual_stream_experiment import PatchResidualStream\n",
    "\n",
    "print(\"Loading trained models and running inference...\")\n",
    "\n",
    "for method in [\"DAS\"]:  # Can also test \"DBM\", \"DBM+SAE\", etc.\n",
    "    print(f\"Testing {method} method...\")\n",
    "    \n",
    "    # Create experiment with same configuration\n",
    "    config[\"method_name\"] = method\n",
    "    experiment = PatchResidualStream(pipeline, causal_model, list(range(start,end)), token_positions, checker, config=config)\n",
    "    \n",
    "    # Set up SAE loader if needed for DBM+SAE method\n",
    "    if method == \"DBM+SAE\":\n",
    "        from sae_lens import SAE\n",
    "        def sae_loader(layer):\n",
    "            sae, _, _ = SAE.from_pretrained(\n",
    "                release = \"gemma-scope-2b-pt-res-canonical\",\n",
    "                sae_id = f\"layer_{layer}/width_16k/canonical\",\n",
    "                device = \"cpu\",\n",
    "            )\n",
    "            return sae\n",
    "        experiment.build_SAE_feature_intervention(sae_loader)\n",
    "    \n",
    "    # Load the trained featurizers\n",
    "    method_model_dir = os.path.join(model_dir, f\"{method}_{pipeline.model.__class__.__name__}_{\"-\".join(target_variables)}\")\n",
    "\n",
    "    experiment.load_featurizers(method_model_dir)\n",
    "    \n",
    "    # Run interventions on test data\n",
    "    raw_results = experiment.perform_interventions(test_data, verbose=verbose, target_variables_list=[target_variables], save_dir=results_dir + \"_loaded\")\n",
    "    \n",
    "    # Clean up\n",
    "    del experiment, raw_results\n",
    "    clear_memory()\n",
    "\n",
    "print(\"Inference completed!\")"
   ]
  }
 ],
 "metadata": {
  "kernelspec": {
   "display_name": "interp",
   "language": "python",
   "name": "python3"
  },
  "language_info": {
   "codemirror_mode": {
    "name": "ipython",
    "version": 3
   },
   "file_extension": ".py",
   "mimetype": "text/x-python",
   "name": "python",
   "nbconvert_exporter": "python",
   "pygments_lexer": "ipython3",
   "version": "3.10.18"
  },
  "widgets": {
   "application/vnd.jupyter.widget-state+json": {
    "state": {
     "09fdba3460c145c38a75d81ca9e2cf99": {
      "model_module": "@jupyter-widgets/base",
      "model_module_version": "2.0.0",
      "model_name": "LayoutModel",
      "state": {
       "_model_module": "@jupyter-widgets/base",
       "_model_module_version": "2.0.0",
       "_model_name": "LayoutModel",
       "_view_count": null,
       "_view_module": "@jupyter-widgets/base",
       "_view_module_version": "2.0.0",
       "_view_name": "LayoutView",
       "align_content": null,
       "align_items": null,
       "align_self": null,
       "border_bottom": null,
       "border_left": null,
       "border_right": null,
       "border_top": null,
       "bottom": null,
       "display": null,
       "flex": null,
       "flex_flow": null,
       "grid_area": null,
       "grid_auto_columns": null,
       "grid_auto_flow": null,
       "grid_auto_rows": null,
       "grid_column": null,
       "grid_gap": null,
       "grid_row": null,
       "grid_template_areas": null,
       "grid_template_columns": null,
       "grid_template_rows": null,
       "height": null,
       "justify_content": null,
       "justify_items": null,
       "left": null,
       "margin": null,
       "max_height": null,
       "max_width": null,
       "min_height": null,
       "min_width": null,
       "object_fit": null,
       "object_position": null,
       "order": null,
       "overflow": null,
       "padding": null,
       "right": null,
       "top": null,
       "visibility": null,
       "width": null
      }
     },
     "110339112ea54410b503218550cceb03": {
      "model_module": "@jupyter-widgets/base",
      "model_module_version": "2.0.0",
      "model_name": "LayoutModel",
      "state": {
       "_model_module": "@jupyter-widgets/base",
       "_model_module_version": "2.0.0",
       "_model_name": "LayoutModel",
       "_view_count": null,
       "_view_module": "@jupyter-widgets/base",
       "_view_module_version": "2.0.0",
       "_view_name": "LayoutView",
       "align_content": null,
       "align_items": null,
       "align_self": null,
       "border_bottom": null,
       "border_left": null,
       "border_right": null,
       "border_top": null,
       "bottom": null,
       "display": null,
       "flex": null,
       "flex_flow": null,
       "grid_area": null,
       "grid_auto_columns": null,
       "grid_auto_flow": null,
       "grid_auto_rows": null,
       "grid_column": null,
       "grid_gap": null,
       "grid_row": null,
       "grid_template_areas": null,
       "grid_template_columns": null,
       "grid_template_rows": null,
       "height": null,
       "justify_content": null,
       "justify_items": null,
       "left": null,
       "margin": null,
       "max_height": null,
       "max_width": null,
       "min_height": null,
       "min_width": null,
       "object_fit": null,
       "object_position": null,
       "order": null,
       "overflow": null,
       "padding": null,
       "right": null,
       "top": null,
       "visibility": null,
       "width": null
      }
     },
     "1b14c54133a548d4bb3007724b15742a": {
      "model_module": "@jupyter-widgets/controls",
      "model_module_version": "2.0.0",
      "model_name": "FloatProgressModel",
      "state": {
       "_dom_classes": [],
       "_model_module": "@jupyter-widgets/controls",
       "_model_module_version": "2.0.0",
       "_model_name": "FloatProgressModel",
       "_view_count": null,
       "_view_module": "@jupyter-widgets/controls",
       "_view_module_version": "2.0.0",
       "_view_name": "ProgressView",
       "bar_style": "success",
       "description": "",
       "description_allow_html": false,
       "layout": "IPY_MODEL_09fdba3460c145c38a75d81ca9e2cf99",
       "max": 3,
       "min": 0,
       "orientation": "horizontal",
       "style": "IPY_MODEL_49e142ec520946918a2a38447578739f",
       "tabbable": null,
       "tooltip": null,
       "value": 3
      }
     },
     "2a6a1dc5b2e24aa08971f876efca38d7": {
      "model_module": "@jupyter-widgets/controls",
      "model_module_version": "2.0.0",
      "model_name": "HBoxModel",
      "state": {
       "_dom_classes": [],
       "_model_module": "@jupyter-widgets/controls",
       "_model_module_version": "2.0.0",
       "_model_name": "HBoxModel",
       "_view_count": null,
       "_view_module": "@jupyter-widgets/controls",
       "_view_module_version": "2.0.0",
       "_view_name": "HBoxView",
       "box_style": "",
       "children": [
        "IPY_MODEL_618e2b0d4a7c4528bd14eae645200d5c",
        "IPY_MODEL_1b14c54133a548d4bb3007724b15742a",
        "IPY_MODEL_caee1c5561144eacac806f8c4a5360c8"
       ],
       "layout": "IPY_MODEL_f1cb62b71fd947eb9aecf438ded1fce7",
       "tabbable": null,
       "tooltip": null
      }
     },
     "487986590ac548858077e59414a021bc": {
      "model_module": "@jupyter-widgets/controls",
      "model_module_version": "2.0.0",
      "model_name": "HTMLStyleModel",
      "state": {
       "_model_module": "@jupyter-widgets/controls",
       "_model_module_version": "2.0.0",
       "_model_name": "HTMLStyleModel",
       "_view_count": null,
       "_view_module": "@jupyter-widgets/base",
       "_view_module_version": "2.0.0",
       "_view_name": "StyleView",
       "background": null,
       "description_width": "",
       "font_size": null,
       "text_color": null
      }
     },
     "49e142ec520946918a2a38447578739f": {
      "model_module": "@jupyter-widgets/controls",
      "model_module_version": "2.0.0",
      "model_name": "ProgressStyleModel",
      "state": {
       "_model_module": "@jupyter-widgets/controls",
       "_model_module_version": "2.0.0",
       "_model_name": "ProgressStyleModel",
       "_view_count": null,
       "_view_module": "@jupyter-widgets/base",
       "_view_module_version": "2.0.0",
       "_view_name": "StyleView",
       "bar_color": null,
       "description_width": ""
      }
     },
     "618e2b0d4a7c4528bd14eae645200d5c": {
      "model_module": "@jupyter-widgets/controls",
      "model_module_version": "2.0.0",
      "model_name": "HTMLModel",
      "state": {
       "_dom_classes": [],
       "_model_module": "@jupyter-widgets/controls",
       "_model_module_version": "2.0.0",
       "_model_name": "HTMLModel",
       "_view_count": null,
       "_view_module": "@jupyter-widgets/controls",
       "_view_module_version": "2.0.0",
       "_view_name": "HTMLView",
       "description": "",
       "description_allow_html": false,
       "layout": "IPY_MODEL_7d66ef1c70c547eba5e1e48a50e2b966",
       "placeholder": "​",
       "style": "IPY_MODEL_d2144c05aafe4665befb6fef8da976f6",
       "tabbable": null,
       "tooltip": null,
       "value": "Loading checkpoint shards: 100%"
      }
     },
     "7d66ef1c70c547eba5e1e48a50e2b966": {
      "model_module": "@jupyter-widgets/base",
      "model_module_version": "2.0.0",
      "model_name": "LayoutModel",
      "state": {
       "_model_module": "@jupyter-widgets/base",
       "_model_module_version": "2.0.0",
       "_model_name": "LayoutModel",
       "_view_count": null,
       "_view_module": "@jupyter-widgets/base",
       "_view_module_version": "2.0.0",
       "_view_name": "LayoutView",
       "align_content": null,
       "align_items": null,
       "align_self": null,
       "border_bottom": null,
       "border_left": null,
       "border_right": null,
       "border_top": null,
       "bottom": null,
       "display": null,
       "flex": null,
       "flex_flow": null,
       "grid_area": null,
       "grid_auto_columns": null,
       "grid_auto_flow": null,
       "grid_auto_rows": null,
       "grid_column": null,
       "grid_gap": null,
       "grid_row": null,
       "grid_template_areas": null,
       "grid_template_columns": null,
       "grid_template_rows": null,
       "height": null,
       "justify_content": null,
       "justify_items": null,
       "left": null,
       "margin": null,
       "max_height": null,
       "max_width": null,
       "min_height": null,
       "min_width": null,
       "object_fit": null,
       "object_position": null,
       "order": null,
       "overflow": null,
       "padding": null,
       "right": null,
       "top": null,
       "visibility": null,
       "width": null
      }
     },
     "caee1c5561144eacac806f8c4a5360c8": {
      "model_module": "@jupyter-widgets/controls",
      "model_module_version": "2.0.0",
      "model_name": "HTMLModel",
      "state": {
       "_dom_classes": [],
       "_model_module": "@jupyter-widgets/controls",
       "_model_module_version": "2.0.0",
       "_model_name": "HTMLModel",
       "_view_count": null,
       "_view_module": "@jupyter-widgets/controls",
       "_view_module_version": "2.0.0",
       "_view_name": "HTMLView",
       "description": "",
       "description_allow_html": false,
       "layout": "IPY_MODEL_110339112ea54410b503218550cceb03",
       "placeholder": "​",
       "style": "IPY_MODEL_487986590ac548858077e59414a021bc",
       "tabbable": null,
       "tooltip": null,
       "value": " 3/3 [00:00&lt;00:00, 78.15it/s]"
      }
     },
     "d2144c05aafe4665befb6fef8da976f6": {
      "model_module": "@jupyter-widgets/controls",
      "model_module_version": "2.0.0",
      "model_name": "HTMLStyleModel",
      "state": {
       "_model_module": "@jupyter-widgets/controls",
       "_model_module_version": "2.0.0",
       "_model_name": "HTMLStyleModel",
       "_view_count": null,
       "_view_module": "@jupyter-widgets/base",
       "_view_module_version": "2.0.0",
       "_view_name": "StyleView",
       "background": null,
       "description_width": "",
       "font_size": null,
       "text_color": null
      }
     },
     "f1cb62b71fd947eb9aecf438ded1fce7": {
      "model_module": "@jupyter-widgets/base",
      "model_module_version": "2.0.0",
      "model_name": "LayoutModel",
      "state": {
       "_model_module": "@jupyter-widgets/base",
       "_model_module_version": "2.0.0",
       "_model_name": "LayoutModel",
       "_view_count": null,
       "_view_module": "@jupyter-widgets/base",
       "_view_module_version": "2.0.0",
       "_view_name": "LayoutView",
       "align_content": null,
       "align_items": null,
       "align_self": null,
       "border_bottom": null,
       "border_left": null,
       "border_right": null,
       "border_top": null,
       "bottom": null,
       "display": null,
       "flex": null,
       "flex_flow": null,
       "grid_area": null,
       "grid_auto_columns": null,
       "grid_auto_flow": null,
       "grid_auto_rows": null,
       "grid_column": null,
       "grid_gap": null,
       "grid_row": null,
       "grid_template_areas": null,
       "grid_template_columns": null,
       "grid_template_rows": null,
       "height": null,
       "justify_content": null,
       "justify_items": null,
       "left": null,
       "margin": null,
       "max_height": null,
       "max_width": null,
       "min_height": null,
       "min_width": null,
       "object_fit": null,
       "object_position": null,
       "order": null,
       "overflow": null,
       "padding": null,
       "right": null,
       "top": null,
       "visibility": null,
       "width": null
      }
     }
    },
    "version_major": 2,
    "version_minor": 0
   }
  }
 },
 "nbformat": 4,
 "nbformat_minor": 2
}
